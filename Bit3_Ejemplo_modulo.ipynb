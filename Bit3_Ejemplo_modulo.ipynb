{
  "nbformat": 4,
  "nbformat_minor": 0,
  "metadata": {
    "colab": {
      "provenance": [],
      "include_colab_link": true
    },
    "kernelspec": {
      "name": "python3",
      "display_name": "Python 3"
    },
    "language_info": {
      "name": "python"
    }
  },
  "cells": [
    {
      "cell_type": "markdown",
      "metadata": {
        "id": "view-in-github",
        "colab_type": "text"
      },
      "source": [
        "<a href=\"https://colab.research.google.com/github/lauraKatz/CursoPythonEspecializacion/blob/main/Bit3_Ejemplo_modulo.ipynb\" target=\"_parent\"><img src=\"https://colab.research.google.com/assets/colab-badge.svg\" alt=\"Open In Colab\"/></a>"
      ]
    },
    {
      "cell_type": "markdown",
      "source": [
        "# Bienvenido"
      ],
      "metadata": {
        "id": "BvqR7YU6_9SL"
      }
    },
    {
      "cell_type": "markdown",
      "source": [
        "<table>\n",
        "  <tr>\n",
        "    <td><img src=\"https://upload.wikimedia.org/wikipedia/commons/thumb/d/d0/Google_Colaboratory_SVG_Logo.svg/1200px-Google_Colaboratory_SVG_Logo.svg.png\" width = 400></td>\n",
        "    <td><img src=\"https://www.pngkey.com/png/full/4-44913_plus-sign-clipart-blue-plus-sign.png\" width = 100></td>\n",
        "    <td><img src=\"https://neuronamagazine.com/wp-content/uploads//2020/08/logo-ubits-2020.png\" width = 400></td>\n",
        "  </tr>\n",
        "</table>"
      ],
      "metadata": {
        "id": "WfJzX9TE983R"
      }
    },
    {
      "cell_type": "markdown",
      "source": [
        "Bienvenido a este cuaderno de **Google-Colaboratory**. Recuerda que para poder ver la ejecución de este ejemplo, es importante que primero vayas al menú **Entorno de Ejecución**, y de ahí escoger la opción **Ejecutar todas**.\n",
        "\n",
        "De manera alternativa puedes ir ejecutando celda por celda al presionar el boton de play que está en la parte izquierda de cada una de ellas.\n",
        "\n",
        "**Es importante que todas las celdas hayan sido ejecutadas al menos 1 vez, de lo contrario el cuaderno no funcionará**"
      ],
      "metadata": {
        "id": "U9PEW5f2AOlI"
      }
    },
    {
      "cell_type": "code",
      "execution_count": 4,
      "metadata": {
        "id": "7VSUm5K1RlE7"
      },
      "outputs": [],
      "source": [
        "class Tabla_de_Datos:\n",
        "  ''' Para que esta clase funcione se necesita una URL abierta de algun archivo Google Sheets'''\n",
        "  def __init__(self, url):\n",
        "    import pandas as pd\n",
        "    from google.colab import auth\n",
        "    auth.authenticate_user()\n",
        "    import gspread\n",
        "    from google.auth import default\n",
        "    creds, _ = default()\n",
        "    self.gc= gspread.authorize(creds)\n",
        "    self.datos=self.gc.open_by_url(url)\n",
        "    self.rows = self.datos.sheet1.get_all_values()\n",
        "    self.df=pd.DataFrame.from_records(self.rows).iloc[1:,1:]\n",
        "    self.df.columns=pd.DataFrame.from_records(self.rows).iloc[0,1:]"
      ]
    },
    {
      "cell_type": "code",
      "source": [
        "def distinguir_col_cuant_cual(dataframe,       # Argumento posicional (obligatorio)\n",
        "                              n_etiquetas=10): # Argumento por defecto (opcional)\n",
        "  '''\n",
        "  Esta función me ayudará a distinguir entre columnas cuantitativas y cualitativas.\n",
        "  Por defecto la función marcará como cualitativa aquellas columnas con 10 o menos etiquetas\n",
        "  Devolverá una lista con las columnas cuantitativas primero y después una lista de columnas\n",
        "  cualitativas.\n",
        "  '''\n",
        "  # Distinguiendo entre variables cuantitativas y cualitativas\n",
        "  cuantitativas=[]\n",
        "  cualitativas=[]\n",
        "\n",
        "  # Ciclo for que nos permitirá revisar de columna en columna\n",
        "  for col in dataframe.columns:\n",
        "    # If que nos permitirá identificar las columnas con valores decimales\n",
        "    if dataframe[col].dtype==\"float64\":\n",
        "      cuantitativas.append(col)\n",
        "    # Elif que nos permitirá identificar las columnas con valores de texto\n",
        "    elif dataframe[col].dtype==\"object\":\n",
        "      cualitativas.append(col)\n",
        "    # Else que nos permitirá identificar las columnas con valores enteros\n",
        "    else:\n",
        "      # Distinguiendo los valores enteros entre cuantitativos y cualitativos\n",
        "      # dependiendo el número de etiquetas en la columna\n",
        "      if dataframe[col].nunique()>=n_etiquetas:\n",
        "        cuantitativas.append(col)\n",
        "      else:\n",
        "        cualitativas.append(col)\n",
        "\n",
        "  return {\"Col_cuantitativas\":cuantitativas,\n",
        "          \"Col_cualitativas\":cualitativas}"
      ],
      "metadata": {
        "id": "96p7mywTdj8-"
      },
      "execution_count": 5,
      "outputs": []
    },
    {
      "cell_type": "code",
      "source": [
        "def Pastel(dataframe, columna, decimales, grafica):\n",
        "  '''\n",
        "  Esta función generará una gráfica de pastel del dataframe y la columna\n",
        "  que se indique; y se colocará en el objeto gráfica(ax) que se proporcione.\n",
        "  '''\n",
        "  dataframe[columna].value_counts().plot(kind=\"pie\",\n",
        "            autopct=\"%.{}f%%\".format(decimales),\n",
        "            ax=grafica)\n",
        "  grafica.set_title(\"Distribución de \" + columna)\n",
        "  return grafica"
      ],
      "metadata": {
        "id": "IAROjnoNd7n3"
      },
      "execution_count": 6,
      "outputs": []
    },
    {
      "cell_type": "code",
      "source": [
        "# Prueba de la clase\n",
        "prueba=Tabla_de_Datos(\"https://docs.google.com/spreadsheets/d/19m1jc7IE__p_sL6pV8y-k8ajh0MoYW6qnRs8vkRhvEk/edit?usp=sharing\")"
      ],
      "metadata": {
        "id": "lVugrKo4VJNI"
      },
      "execution_count": 13,
      "outputs": []
    },
    {
      "cell_type": "code",
      "source": [
        "print(prueba)"
      ],
      "metadata": {
        "colab": {
          "base_uri": "https://localhost:8080/"
        },
        "id": "LWlxr6ojsci5",
        "outputId": "46177736-6c19-43c3-d3d9-319929190f2c"
      },
      "execution_count": 17,
      "outputs": [
        {
          "output_type": "stream",
          "name": "stdout",
          "text": [
            "<__main__.Tabla_de_Datos object at 0x7a0a2636cbb0>\n"
          ]
        }
      ]
    },
    {
      "cell_type": "code",
      "source": [
        "prueba.df.head()"
      ],
      "metadata": {
        "colab": {
          "base_uri": "https://localhost:8080/",
          "height": 206
        },
        "id": "osEkLthuVndI",
        "outputId": "4715876e-ae30-4321-d8ed-39fbd75117b9"
      },
      "execution_count": 8,
      "outputs": [
        {
          "output_type": "execute_result",
          "data": {
            "text/plain": [
              "0  Gender Age Annual Income (k$) Spending Score (1-100)\n",
              "1    Male  19                 15                     39\n",
              "2    Male  21                 15                     81\n",
              "3  Female  20                 16                      6\n",
              "4  Female  23                 16                     77\n",
              "5  Female  31                 17                     40"
            ],
            "text/html": [
              "\n",
              "\n",
              "  <div id=\"df-6a63dadc-fffc-4ea2-b565-90d900c5d5b5\">\n",
              "    <div class=\"colab-df-container\">\n",
              "      <div>\n",
              "<style scoped>\n",
              "    .dataframe tbody tr th:only-of-type {\n",
              "        vertical-align: middle;\n",
              "    }\n",
              "\n",
              "    .dataframe tbody tr th {\n",
              "        vertical-align: top;\n",
              "    }\n",
              "\n",
              "    .dataframe thead th {\n",
              "        text-align: right;\n",
              "    }\n",
              "</style>\n",
              "<table border=\"1\" class=\"dataframe\">\n",
              "  <thead>\n",
              "    <tr style=\"text-align: right;\">\n",
              "      <th></th>\n",
              "      <th>Gender</th>\n",
              "      <th>Age</th>\n",
              "      <th>Annual Income (k$)</th>\n",
              "      <th>Spending Score (1-100)</th>\n",
              "    </tr>\n",
              "  </thead>\n",
              "  <tbody>\n",
              "    <tr>\n",
              "      <th>1</th>\n",
              "      <td>Male</td>\n",
              "      <td>19</td>\n",
              "      <td>15</td>\n",
              "      <td>39</td>\n",
              "    </tr>\n",
              "    <tr>\n",
              "      <th>2</th>\n",
              "      <td>Male</td>\n",
              "      <td>21</td>\n",
              "      <td>15</td>\n",
              "      <td>81</td>\n",
              "    </tr>\n",
              "    <tr>\n",
              "      <th>3</th>\n",
              "      <td>Female</td>\n",
              "      <td>20</td>\n",
              "      <td>16</td>\n",
              "      <td>6</td>\n",
              "    </tr>\n",
              "    <tr>\n",
              "      <th>4</th>\n",
              "      <td>Female</td>\n",
              "      <td>23</td>\n",
              "      <td>16</td>\n",
              "      <td>77</td>\n",
              "    </tr>\n",
              "    <tr>\n",
              "      <th>5</th>\n",
              "      <td>Female</td>\n",
              "      <td>31</td>\n",
              "      <td>17</td>\n",
              "      <td>40</td>\n",
              "    </tr>\n",
              "  </tbody>\n",
              "</table>\n",
              "</div>\n",
              "      <button class=\"colab-df-convert\" onclick=\"convertToInteractive('df-6a63dadc-fffc-4ea2-b565-90d900c5d5b5')\"\n",
              "              title=\"Convert this dataframe to an interactive table.\"\n",
              "              style=\"display:none;\">\n",
              "\n",
              "  <svg xmlns=\"http://www.w3.org/2000/svg\" height=\"24px\"viewBox=\"0 0 24 24\"\n",
              "       width=\"24px\">\n",
              "    <path d=\"M0 0h24v24H0V0z\" fill=\"none\"/>\n",
              "    <path d=\"M18.56 5.44l.94 2.06.94-2.06 2.06-.94-2.06-.94-.94-2.06-.94 2.06-2.06.94zm-11 1L8.5 8.5l.94-2.06 2.06-.94-2.06-.94L8.5 2.5l-.94 2.06-2.06.94zm10 10l.94 2.06.94-2.06 2.06-.94-2.06-.94-.94-2.06-.94 2.06-2.06.94z\"/><path d=\"M17.41 7.96l-1.37-1.37c-.4-.4-.92-.59-1.43-.59-.52 0-1.04.2-1.43.59L10.3 9.45l-7.72 7.72c-.78.78-.78 2.05 0 2.83L4 21.41c.39.39.9.59 1.41.59.51 0 1.02-.2 1.41-.59l7.78-7.78 2.81-2.81c.8-.78.8-2.07 0-2.86zM5.41 20L4 18.59l7.72-7.72 1.47 1.35L5.41 20z\"/>\n",
              "  </svg>\n",
              "      </button>\n",
              "\n",
              "\n",
              "\n",
              "    <div id=\"df-d70d22c4-5a15-4318-9d53-bef283082035\">\n",
              "      <button class=\"colab-df-quickchart\" onclick=\"quickchart('df-d70d22c4-5a15-4318-9d53-bef283082035')\"\n",
              "              title=\"Suggest charts.\"\n",
              "              style=\"display:none;\">\n",
              "\n",
              "<svg xmlns=\"http://www.w3.org/2000/svg\" height=\"24px\"viewBox=\"0 0 24 24\"\n",
              "     width=\"24px\">\n",
              "    <g>\n",
              "        <path d=\"M19 3H5c-1.1 0-2 .9-2 2v14c0 1.1.9 2 2 2h14c1.1 0 2-.9 2-2V5c0-1.1-.9-2-2-2zM9 17H7v-7h2v7zm4 0h-2V7h2v10zm4 0h-2v-4h2v4z\"/>\n",
              "    </g>\n",
              "</svg>\n",
              "      </button>\n",
              "    </div>\n",
              "\n",
              "<style>\n",
              "  .colab-df-quickchart {\n",
              "    background-color: #E8F0FE;\n",
              "    border: none;\n",
              "    border-radius: 50%;\n",
              "    cursor: pointer;\n",
              "    display: none;\n",
              "    fill: #1967D2;\n",
              "    height: 32px;\n",
              "    padding: 0 0 0 0;\n",
              "    width: 32px;\n",
              "  }\n",
              "\n",
              "  .colab-df-quickchart:hover {\n",
              "    background-color: #E2EBFA;\n",
              "    box-shadow: 0px 1px 2px rgba(60, 64, 67, 0.3), 0px 1px 3px 1px rgba(60, 64, 67, 0.15);\n",
              "    fill: #174EA6;\n",
              "  }\n",
              "\n",
              "  [theme=dark] .colab-df-quickchart {\n",
              "    background-color: #3B4455;\n",
              "    fill: #D2E3FC;\n",
              "  }\n",
              "\n",
              "  [theme=dark] .colab-df-quickchart:hover {\n",
              "    background-color: #434B5C;\n",
              "    box-shadow: 0px 1px 3px 1px rgba(0, 0, 0, 0.15);\n",
              "    filter: drop-shadow(0px 1px 2px rgba(0, 0, 0, 0.3));\n",
              "    fill: #FFFFFF;\n",
              "  }\n",
              "</style>\n",
              "\n",
              "    <script>\n",
              "      async function quickchart(key) {\n",
              "        const containerElement = document.querySelector('#' + key);\n",
              "        const charts = await google.colab.kernel.invokeFunction(\n",
              "            'suggestCharts', [key], {});\n",
              "      }\n",
              "    </script>\n",
              "\n",
              "      <script>\n",
              "\n",
              "function displayQuickchartButton(domScope) {\n",
              "  let quickchartButtonEl =\n",
              "    domScope.querySelector('#df-d70d22c4-5a15-4318-9d53-bef283082035 button.colab-df-quickchart');\n",
              "  quickchartButtonEl.style.display =\n",
              "    google.colab.kernel.accessAllowed ? 'block' : 'none';\n",
              "}\n",
              "\n",
              "        displayQuickchartButton(document);\n",
              "      </script>\n",
              "      <style>\n",
              "    .colab-df-container {\n",
              "      display:flex;\n",
              "      flex-wrap:wrap;\n",
              "      gap: 12px;\n",
              "    }\n",
              "\n",
              "    .colab-df-convert {\n",
              "      background-color: #E8F0FE;\n",
              "      border: none;\n",
              "      border-radius: 50%;\n",
              "      cursor: pointer;\n",
              "      display: none;\n",
              "      fill: #1967D2;\n",
              "      height: 32px;\n",
              "      padding: 0 0 0 0;\n",
              "      width: 32px;\n",
              "    }\n",
              "\n",
              "    .colab-df-convert:hover {\n",
              "      background-color: #E2EBFA;\n",
              "      box-shadow: 0px 1px 2px rgba(60, 64, 67, 0.3), 0px 1px 3px 1px rgba(60, 64, 67, 0.15);\n",
              "      fill: #174EA6;\n",
              "    }\n",
              "\n",
              "    [theme=dark] .colab-df-convert {\n",
              "      background-color: #3B4455;\n",
              "      fill: #D2E3FC;\n",
              "    }\n",
              "\n",
              "    [theme=dark] .colab-df-convert:hover {\n",
              "      background-color: #434B5C;\n",
              "      box-shadow: 0px 1px 3px 1px rgba(0, 0, 0, 0.15);\n",
              "      filter: drop-shadow(0px 1px 2px rgba(0, 0, 0, 0.3));\n",
              "      fill: #FFFFFF;\n",
              "    }\n",
              "  </style>\n",
              "\n",
              "      <script>\n",
              "        const buttonEl =\n",
              "          document.querySelector('#df-6a63dadc-fffc-4ea2-b565-90d900c5d5b5 button.colab-df-convert');\n",
              "        buttonEl.style.display =\n",
              "          google.colab.kernel.accessAllowed ? 'block' : 'none';\n",
              "\n",
              "        async function convertToInteractive(key) {\n",
              "          const element = document.querySelector('#df-6a63dadc-fffc-4ea2-b565-90d900c5d5b5');\n",
              "          const dataTable =\n",
              "            await google.colab.kernel.invokeFunction('convertToInteractive',\n",
              "                                                     [key], {});\n",
              "          if (!dataTable) return;\n",
              "\n",
              "          const docLinkHtml = 'Like what you see? Visit the ' +\n",
              "            '<a target=\"_blank\" href=https://colab.research.google.com/notebooks/data_table.ipynb>data table notebook</a>'\n",
              "            + ' to learn more about interactive tables.';\n",
              "          element.innerHTML = '';\n",
              "          dataTable['output_type'] = 'display_data';\n",
              "          await google.colab.output.renderOutput(dataTable, element);\n",
              "          const docLink = document.createElement('div');\n",
              "          docLink.innerHTML = docLinkHtml;\n",
              "          element.appendChild(docLink);\n",
              "        }\n",
              "      </script>\n",
              "    </div>\n",
              "  </div>\n"
            ]
          },
          "metadata": {},
          "execution_count": 8
        }
      ]
    },
    {
      "cell_type": "code",
      "source": [
        "distinguir_col_cuant_cual(prueba.df)"
      ],
      "metadata": {
        "id": "eTTqGKC5bIC0",
        "colab": {
          "base_uri": "https://localhost:8080/"
        },
        "outputId": "454bec1a-b8df-4e86-f257-164fdeb9eec2"
      },
      "execution_count": 18,
      "outputs": [
        {
          "output_type": "execute_result",
          "data": {
            "text/plain": [
              "{'Col_cuantitativas': [],\n",
              " 'Col_cualitativas': ['Gender',\n",
              "  'Age',\n",
              "  'Annual Income (k$)',\n",
              "  'Spending Score (1-100)']}"
            ]
          },
          "metadata": {},
          "execution_count": 18
        }
      ]
    },
    {
      "cell_type": "code",
      "source": [
        "#Pastel(prueba.df,'Gender',0,'grafica')\n",
        "prueba.df['Gender'].value_counts().plot(kind=\"pie\")"
      ],
      "metadata": {
        "colab": {
          "base_uri": "https://localhost:8080/",
          "height": 423
        },
        "id": "8RKpkqFttD8I",
        "outputId": "cb124370-4dba-4ba4-bf9b-3ef0bbb68f21"
      },
      "execution_count": 28,
      "outputs": [
        {
          "output_type": "execute_result",
          "data": {
            "text/plain": [
              "<Axes: ylabel='Gender'>"
            ]
          },
          "metadata": {},
          "execution_count": 28
        },
        {
          "output_type": "display_data",
          "data": {
            "text/plain": [
              "<Figure size 640x480 with 1 Axes>"
            ],
            "image/png": "[encoded data removed]"
          },
          "metadata": {}
        }
      ]
    }
  ]
}